{
 "cells": [
  {
   "cell_type": "markdown",
   "metadata": {},
   "source": [
    "# Analise exploratória de dados imobiliários com Mapas Interativos"
   ]
  },
  {
   "cell_type": "markdown",
   "metadata": {},
   "source": [
    "#### Autor: Rodrigo Araujo\n",
    "https://www.linkedin.com/in/rodrigo-marcel-araujo-oliveira/"
   ]
  },
  {
   "cell_type": "markdown",
   "metadata": {},
   "source": [
    "A ideia desse estudo é analisar a distribuição de imovéis no território de São Paulo com auxilio de mapas interativos com Python. Para isso, fizemos um Scraping de algumas informações de um site de vendas e locações de imóveis, geramos um csv com qual vamos trabalhar. <br>\n",
    "\n",
    "Nesse artigo não vamos tratar sobre Web Scraping, caso tenha interesse no assunto, fique ligado pois em breve teremos nossos cursos oline disponível para você."
   ]
  },
  {
   "cell_type": "code",
   "execution_count": 1,
   "metadata": {},
   "outputs": [],
   "source": [
    "import folium\n",
    "from folium.plugins import MarkerCluster"
   ]
  },
  {
   "cell_type": "markdown",
   "metadata": {},
   "source": [
    "Folium é uma biblioteca que facilita a visualização dos dados que foram manipulados no Python em um mapa interativo de folhetos. Além disso permite a ligação de dados a um mapa para visualizações, além de transmitir visualizações vetoriais / rasterizadas / HTML avançadas como marcadores no mapa. <br>\n",
    "\n",
    "A biblioteca possui vários conjuntos de peças integradas do OpenStreetMap, Mapbox e Stamen e suporta conjuntos de peças personalizadas com chaves de API Mapbox ou Cloudmade. foliumsuporta sobreposições de imagem, vídeo, GeoJSON e TopoJSON. <br>\n",
    "\n",
    "Agora vamos apresentar mais uma biblioteca útil para estudos de geolocalização que é a Geocoders, com essa ferramenta é possível achar a latitude e longitude de um determinado endereço. "
   ]
  },
  {
   "cell_type": "code",
   "execution_count": 2,
   "metadata": {},
   "outputs": [
    {
     "name": "stdout",
     "output_type": "stream",
     "text": [
      "Bradesco, 967, Avenida Paulista, Jardim Paulista, São Paulo, Região Imediata de São Paulo, Região Metropolitana de São Paulo, Região Intermediária de São Paulo, São Paulo, Região Sudeste, 01311-100, Brasil\n",
      "(-23.5655627, -46.6520045)\n"
     ]
    }
   ],
   "source": [
    "from geopy.geocoders import Nominatim\n",
    "geolocator = Nominatim(user_agent=\"Trading com Dados\")\n",
    "location = geolocator.geocode(\"Av. Paulista, 967 - Bela Vista, São Paulo - SP\")\n",
    "print(location.address)\n",
    "print((location.latitude, location.longitude))"
   ]
  },
  {
   "cell_type": "markdown",
   "metadata": {},
   "source": [
    "## Importando dados de imóveis"
   ]
  },
  {
   "cell_type": "code",
   "execution_count": 3,
   "metadata": {},
   "outputs": [],
   "source": [
    "import json    \n",
    "\n",
    "data = []\n",
    "with open(r'source-4-ds-test.json', encoding=\"utf8\") as f:\n",
    "    for line in f:\n",
    "        data.append(json.loads(line))"
   ]
  },
  {
   "cell_type": "markdown",
   "metadata": {},
   "source": [
    "Entendendo a estrutura dos dados"
   ]
  },
  {
   "cell_type": "code",
   "execution_count": 4,
   "metadata": {},
   "outputs": [
    {
     "data": {
      "text/plain": [
       "{'address': {'city': 'São Paulo',\n",
       "  'country': 'BR',\n",
       "  'district': '',\n",
       "  'geoLocation': {'location': {'lat': -23.557225, 'lon': -46.662765},\n",
       "   'precision': 'GEOMETRIC_CENTER'},\n",
       "  'locationId': 'BR>Sao Paulo>NULL>Sao Paulo>Centro>Consolacao',\n",
       "  'neighborhood': 'Consolação',\n",
       "  'state': 'São Paulo',\n",
       "  'street': 'Rua Bela Cintra',\n",
       "  'streetNumber': '',\n",
       "  'unitNumber': '',\n",
       "  'zipCode': '01415000',\n",
       "  'zone': 'Centro'},\n",
       " 'bathrooms': 1,\n",
       " 'bedrooms': 1,\n",
       " 'createdAt': '2015-10-20T20:52:41Z',\n",
       " 'description': 'Apartamentos de 1 dormitório na Rua Bela Cintra. Próximos ao centro, ao metrô Paulista e à Av. Paulista.\\r\\n\\r\\nAgende sua visita!',\n",
       " 'id': '89224365f8',\n",
       " 'images': ['https://s3-sa-east-1.amazonaws.com/vr.images.sp.admin/f87a57aa-9a22-425c-a3b4-086a0fd7c969',\n",
       "  'https://s3-sa-east-1.amazonaws.com/vr.images.sp.admin/8ae90420-6b40-4afc-baf5-a286e8fd5c04',\n",
       "  'https://s3-sa-east-1.amazonaws.com/vr.images.sp.admin/7a11138b-c306-4267-885a-ce885797a31b',\n",
       "  'https://s3-sa-east-1.amazonaws.com/vr.images.sp.admin/1f82d5a9-3554-4502-9cb7-07210b837314',\n",
       "  'https://s3-sa-east-1.amazonaws.com/vr.images.sp.admin/cebef03b-8799-41a1-8327-bb0f70855f54',\n",
       "  'https://s3-sa-east-1.amazonaws.com/vr.images.sp.admin/d2b846cc-57e7-4bd0-8651-edb7b4654143',\n",
       "  'https://s3-sa-east-1.amazonaws.com/vr.images.sp.admin/c1cf6667-f64c-4512-8227-8291cb35c08d',\n",
       "  'https://s3-sa-east-1.amazonaws.com/vr.images.sp.admin/f18e317a-1876-48dd-9618-8cb226cbf3de'],\n",
       " 'listingStatus': 'ACTIVE',\n",
       " 'owner': False,\n",
       " 'parkingSpaces': 1,\n",
       " 'pricingInfos': {'businessType': 'SALE', 'price': None},\n",
       " 'publicationType': 'STANDARD',\n",
       " 'publisherId': '967d57ce20',\n",
       " 'suites': 0,\n",
       " 'title': 'Apartamento Bela Cintra',\n",
       " 'totalAreas': 47,\n",
       " 'unitTypes': 'APARTMENT',\n",
       " 'updatedAt': '2018-11-08T15:02:53.953Z',\n",
       " 'usableAreas': 47}"
      ]
     },
     "execution_count": 4,
     "metadata": {},
     "output_type": "execute_result"
    }
   ],
   "source": [
    "data[0]"
   ]
  },
  {
   "cell_type": "markdown",
   "metadata": {},
   "source": [
    "A estrutura dos dados estão no formato json, isso dificulda a manipulação dos dados para nossa finalidade nesse estudo, para isso vamos transformar os dados em um dataframe "
   ]
  },
  {
   "cell_type": "code",
   "execution_count": 5,
   "metadata": {},
   "outputs": [
    {
     "data": {
      "text/html": [
       "<div>\n",
       "<style scoped>\n",
       "    .dataframe tbody tr th:only-of-type {\n",
       "        vertical-align: middle;\n",
       "    }\n",
       "\n",
       "    .dataframe tbody tr th {\n",
       "        vertical-align: top;\n",
       "    }\n",
       "\n",
       "    .dataframe thead th {\n",
       "        text-align: right;\n",
       "    }\n",
       "</style>\n",
       "<table border=\"1\" class=\"dataframe\">\n",
       "  <thead>\n",
       "    <tr style=\"text-align: right;\">\n",
       "      <th></th>\n",
       "      <th>address.city</th>\n",
       "      <th>address.country</th>\n",
       "      <th>address.district</th>\n",
       "      <th>address.geoLocation.location.lat</th>\n",
       "      <th>address.geoLocation.location.lon</th>\n",
       "      <th>address.geoLocation.precision</th>\n",
       "      <th>address.locationId</th>\n",
       "      <th>address.neighborhood</th>\n",
       "      <th>address.state</th>\n",
       "      <th>address.street</th>\n",
       "      <th>...</th>\n",
       "      <th>pricingInfos.rentalTotalPrice</th>\n",
       "      <th>pricingInfos.yearlyIptu</th>\n",
       "      <th>publicationType</th>\n",
       "      <th>publisherId</th>\n",
       "      <th>suites</th>\n",
       "      <th>title</th>\n",
       "      <th>totalAreas</th>\n",
       "      <th>unitTypes</th>\n",
       "      <th>updatedAt</th>\n",
       "      <th>usableAreas</th>\n",
       "    </tr>\n",
       "  </thead>\n",
       "  <tbody>\n",
       "    <tr>\n",
       "      <th>0</th>\n",
       "      <td>São Paulo</td>\n",
       "      <td>BR</td>\n",
       "      <td></td>\n",
       "      <td>-23.557225</td>\n",
       "      <td>-46.662765</td>\n",
       "      <td>GEOMETRIC_CENTER</td>\n",
       "      <td>BR&gt;Sao Paulo&gt;NULL&gt;Sao Paulo&gt;Centro&gt;Consolacao</td>\n",
       "      <td>Consolação</td>\n",
       "      <td>São Paulo</td>\n",
       "      <td>Rua Bela Cintra</td>\n",
       "      <td>...</td>\n",
       "      <td>NaN</td>\n",
       "      <td>NaN</td>\n",
       "      <td>STANDARD</td>\n",
       "      <td>967d57ce20</td>\n",
       "      <td>0.0</td>\n",
       "      <td>Apartamento Bela Cintra</td>\n",
       "      <td>47.0</td>\n",
       "      <td>APARTMENT</td>\n",
       "      <td>2018-11-08T15:02:53.953Z</td>\n",
       "      <td>47.0</td>\n",
       "    </tr>\n",
       "    <tr>\n",
       "      <th>1</th>\n",
       "      <td>São Paulo</td>\n",
       "      <td>BR</td>\n",
       "      <td></td>\n",
       "      <td>-23.592852</td>\n",
       "      <td>-46.581879</td>\n",
       "      <td>ROOFTOP</td>\n",
       "      <td>BR&gt;Sao Paulo&gt;NULL&gt;Sao Paulo&gt;Zona Leste&gt;Quinta ...</td>\n",
       "      <td>Quinta da Paineira</td>\n",
       "      <td>São Paulo</td>\n",
       "      <td>Rua Bruno Cavalcanti Feder</td>\n",
       "      <td>...</td>\n",
       "      <td>NaN</td>\n",
       "      <td>0.0</td>\n",
       "      <td>STANDARD</td>\n",
       "      <td>bddebf057a</td>\n",
       "      <td>0.0</td>\n",
       "      <td>Apartamento residencial à venda, Quinta da Pai...</td>\n",
       "      <td>55.0</td>\n",
       "      <td>APARTMENT</td>\n",
       "      <td>2018-11-08T16:10:49.374Z</td>\n",
       "      <td>55.0</td>\n",
       "    </tr>\n",
       "    <tr>\n",
       "      <th>2</th>\n",
       "      <td>São Paulo</td>\n",
       "      <td></td>\n",
       "      <td></td>\n",
       "      <td>-23.493609</td>\n",
       "      <td>-46.638456</td>\n",
       "      <td>ROOFTOP</td>\n",
       "      <td>BR&gt;Sao Paulo&gt;NULL&gt;Sao Paulo&gt;Zona Norte&gt;Santa T...</td>\n",
       "      <td>Chora Menino</td>\n",
       "      <td>São Paulo</td>\n",
       "      <td>Rua Copacabana</td>\n",
       "      <td>...</td>\n",
       "      <td>NaN</td>\n",
       "      <td>NaN</td>\n",
       "      <td>STANDARD</td>\n",
       "      <td>d7190e8f4c</td>\n",
       "      <td>1.0</td>\n",
       "      <td>Apartamento em Santa Terezinha - São Paulo, SP</td>\n",
       "      <td>NaN</td>\n",
       "      <td>APARTMENT</td>\n",
       "      <td>2019-02-12T18:29:26.933Z</td>\n",
       "      <td>92.0</td>\n",
       "    </tr>\n",
       "    <tr>\n",
       "      <th>3</th>\n",
       "      <td>São Paulo</td>\n",
       "      <td></td>\n",
       "      <td></td>\n",
       "      <td>-23.607981</td>\n",
       "      <td>-46.686180</td>\n",
       "      <td>GEOMETRIC_CENTER</td>\n",
       "      <td>BR&gt;Sao Paulo&gt;NULL&gt;Sao Paulo&gt;Zona Sul&gt;Brooklin</td>\n",
       "      <td>Brooklin Paulista</td>\n",
       "      <td>São Paulo</td>\n",
       "      <td>Rua Guararapes</td>\n",
       "      <td>...</td>\n",
       "      <td>NaN</td>\n",
       "      <td>368.0</td>\n",
       "      <td>STANDARD</td>\n",
       "      <td>316d75f06f</td>\n",
       "      <td>3.0</td>\n",
       "      <td>Apartamento reformado com varanda gourmet no B...</td>\n",
       "      <td>145.0</td>\n",
       "      <td>APARTMENT</td>\n",
       "      <td>2019-02-24T23:34:29.306Z</td>\n",
       "      <td>145.0</td>\n",
       "    </tr>\n",
       "    <tr>\n",
       "      <th>4</th>\n",
       "      <td>São Paulo</td>\n",
       "      <td></td>\n",
       "      <td></td>\n",
       "      <td>-23.540604</td>\n",
       "      <td>-46.715088</td>\n",
       "      <td>ROOFTOP</td>\n",
       "      <td>BR&gt;Sao Paulo&gt;NULL&gt;Sao Paulo&gt;Zona Oeste&gt;Alto de...</td>\n",
       "      <td>Alto de Pinheiros</td>\n",
       "      <td>São Paulo</td>\n",
       "      <td>Rua Pio XI</td>\n",
       "      <td>...</td>\n",
       "      <td>NaN</td>\n",
       "      <td>79.0</td>\n",
       "      <td>STANDARD</td>\n",
       "      <td>295eddde1a</td>\n",
       "      <td>1.0</td>\n",
       "      <td>Apartamento Residencial à venda, Alto de Pinhe...</td>\n",
       "      <td>76.0</td>\n",
       "      <td>APARTMENT</td>\n",
       "      <td>2019-02-23T00:33:46.237Z</td>\n",
       "      <td>76.0</td>\n",
       "    </tr>\n",
       "  </tbody>\n",
       "</table>\n",
       "<p>5 rows × 37 columns</p>\n",
       "</div>"
      ],
      "text/plain": [
       "  address.city address.country address.district  \\\n",
       "0    São Paulo              BR                    \n",
       "1    São Paulo              BR                    \n",
       "2    São Paulo                                    \n",
       "3    São Paulo                                    \n",
       "4    São Paulo                                    \n",
       "\n",
       "   address.geoLocation.location.lat  address.geoLocation.location.lon  \\\n",
       "0                        -23.557225                        -46.662765   \n",
       "1                        -23.592852                        -46.581879   \n",
       "2                        -23.493609                        -46.638456   \n",
       "3                        -23.607981                        -46.686180   \n",
       "4                        -23.540604                        -46.715088   \n",
       "\n",
       "  address.geoLocation.precision  \\\n",
       "0              GEOMETRIC_CENTER   \n",
       "1                       ROOFTOP   \n",
       "2                       ROOFTOP   \n",
       "3              GEOMETRIC_CENTER   \n",
       "4                       ROOFTOP   \n",
       "\n",
       "                                  address.locationId address.neighborhood  \\\n",
       "0      BR>Sao Paulo>NULL>Sao Paulo>Centro>Consolacao           Consolação   \n",
       "1  BR>Sao Paulo>NULL>Sao Paulo>Zona Leste>Quinta ...   Quinta da Paineira   \n",
       "2  BR>Sao Paulo>NULL>Sao Paulo>Zona Norte>Santa T...         Chora Menino   \n",
       "3      BR>Sao Paulo>NULL>Sao Paulo>Zona Sul>Brooklin    Brooklin Paulista   \n",
       "4  BR>Sao Paulo>NULL>Sao Paulo>Zona Oeste>Alto de...    Alto de Pinheiros   \n",
       "\n",
       "  address.state              address.street     ...      \\\n",
       "0     São Paulo             Rua Bela Cintra     ...       \n",
       "1     São Paulo  Rua Bruno Cavalcanti Feder     ...       \n",
       "2     São Paulo              Rua Copacabana     ...       \n",
       "3     São Paulo              Rua Guararapes     ...       \n",
       "4     São Paulo                  Rua Pio XI     ...       \n",
       "\n",
       "  pricingInfos.rentalTotalPrice pricingInfos.yearlyIptu publicationType  \\\n",
       "0                           NaN                     NaN        STANDARD   \n",
       "1                           NaN                     0.0        STANDARD   \n",
       "2                           NaN                     NaN        STANDARD   \n",
       "3                           NaN                   368.0        STANDARD   \n",
       "4                           NaN                    79.0        STANDARD   \n",
       "\n",
       "  publisherId  suites                                              title  \\\n",
       "0  967d57ce20     0.0                            Apartamento Bela Cintra   \n",
       "1  bddebf057a     0.0  Apartamento residencial à venda, Quinta da Pai...   \n",
       "2  d7190e8f4c     1.0     Apartamento em Santa Terezinha - São Paulo, SP   \n",
       "3  316d75f06f     3.0  Apartamento reformado com varanda gourmet no B...   \n",
       "4  295eddde1a     1.0  Apartamento Residencial à venda, Alto de Pinhe...   \n",
       "\n",
       "  totalAreas  unitTypes                 updatedAt usableAreas  \n",
       "0       47.0  APARTMENT  2018-11-08T15:02:53.953Z        47.0  \n",
       "1       55.0  APARTMENT  2018-11-08T16:10:49.374Z        55.0  \n",
       "2        NaN  APARTMENT  2019-02-12T18:29:26.933Z        92.0  \n",
       "3      145.0  APARTMENT  2019-02-24T23:34:29.306Z       145.0  \n",
       "4       76.0  APARTMENT  2019-02-23T00:33:46.237Z        76.0  \n",
       "\n",
       "[5 rows x 37 columns]"
      ]
     },
     "execution_count": 5,
     "metadata": {},
     "output_type": "execute_result"
    }
   ],
   "source": [
    "from pandas.io.json import json_normalize\n",
    "df = json_normalize(data)\n",
    "df.head()"
   ]
  },
  {
   "cell_type": "markdown",
   "metadata": {},
   "source": [
    "Excelente, agora temos nossos dados no formato que podemos manusear fácilmente os dados. Suponha que queriamos filtrar somente um bairro específico, ou seja, estou interessado nos imóveis do bairro do Butãnta."
   ]
  },
  {
   "cell_type": "code",
   "execution_count": 6,
   "metadata": {},
   "outputs": [
    {
     "data": {
      "text/html": [
       "<div>\n",
       "<style scoped>\n",
       "    .dataframe tbody tr th:only-of-type {\n",
       "        vertical-align: middle;\n",
       "    }\n",
       "\n",
       "    .dataframe tbody tr th {\n",
       "        vertical-align: top;\n",
       "    }\n",
       "\n",
       "    .dataframe thead th {\n",
       "        text-align: right;\n",
       "    }\n",
       "</style>\n",
       "<table border=\"1\" class=\"dataframe\">\n",
       "  <thead>\n",
       "    <tr style=\"text-align: right;\">\n",
       "      <th></th>\n",
       "      <th>address.city</th>\n",
       "      <th>address.country</th>\n",
       "      <th>address.district</th>\n",
       "      <th>address.geoLocation.location.lat</th>\n",
       "      <th>address.geoLocation.location.lon</th>\n",
       "      <th>address.geoLocation.precision</th>\n",
       "      <th>address.locationId</th>\n",
       "      <th>address.neighborhood</th>\n",
       "      <th>address.state</th>\n",
       "      <th>address.street</th>\n",
       "      <th>...</th>\n",
       "      <th>pricingInfos.rentalTotalPrice</th>\n",
       "      <th>pricingInfos.yearlyIptu</th>\n",
       "      <th>publicationType</th>\n",
       "      <th>publisherId</th>\n",
       "      <th>suites</th>\n",
       "      <th>title</th>\n",
       "      <th>totalAreas</th>\n",
       "      <th>unitTypes</th>\n",
       "      <th>updatedAt</th>\n",
       "      <th>usableAreas</th>\n",
       "    </tr>\n",
       "  </thead>\n",
       "  <tbody>\n",
       "    <tr>\n",
       "      <th>40</th>\n",
       "      <td>São Paulo</td>\n",
       "      <td></td>\n",
       "      <td></td>\n",
       "      <td>-23.587339</td>\n",
       "      <td>-46.754017</td>\n",
       "      <td>ROOFTOP</td>\n",
       "      <td>BR&gt;Sao Paulo&gt;NULL&gt;Sao Paulo&gt;Zona Oeste&gt;Butanta</td>\n",
       "      <td>Butantã</td>\n",
       "      <td>São Paulo</td>\n",
       "      <td>Rua Luísa Crapsi Orsi</td>\n",
       "      <td>...</td>\n",
       "      <td>NaN</td>\n",
       "      <td>0.0</td>\n",
       "      <td>STANDARD</td>\n",
       "      <td>581abc24ae</td>\n",
       "      <td>1.0</td>\n",
       "      <td>Apartamento  residencial à venda, Butantã, São...</td>\n",
       "      <td>65.0</td>\n",
       "      <td>APARTMENT</td>\n",
       "      <td>2019-02-25T06:20:12.700Z</td>\n",
       "      <td>65.0</td>\n",
       "    </tr>\n",
       "    <tr>\n",
       "      <th>176</th>\n",
       "      <td>São Paulo</td>\n",
       "      <td></td>\n",
       "      <td></td>\n",
       "      <td>-23.563487</td>\n",
       "      <td>-46.721009</td>\n",
       "      <td>APPROXIMATE</td>\n",
       "      <td>BR&gt;Sao Paulo&gt;NULL&gt;Sao Paulo&gt;Zona Oeste&gt;Butanta</td>\n",
       "      <td>Butantã</td>\n",
       "      <td>São Paulo</td>\n",
       "      <td></td>\n",
       "      <td>...</td>\n",
       "      <td>NaN</td>\n",
       "      <td>0.0</td>\n",
       "      <td>STANDARD</td>\n",
       "      <td>e4faf6b597</td>\n",
       "      <td>0.0</td>\n",
       "      <td>Lindo ! Mairare!!!</td>\n",
       "      <td>NaN</td>\n",
       "      <td>APARTMENT</td>\n",
       "      <td>2019-02-14T02:03:51.662Z</td>\n",
       "      <td>136.0</td>\n",
       "    </tr>\n",
       "    <tr>\n",
       "      <th>515</th>\n",
       "      <td>São Paulo</td>\n",
       "      <td></td>\n",
       "      <td></td>\n",
       "      <td>-23.585236</td>\n",
       "      <td>-46.777273</td>\n",
       "      <td>ROOFTOP</td>\n",
       "      <td>BR&gt;Sao Paulo&gt;NULL&gt;Sao Paulo&gt;Zona Oeste&gt;Butanta</td>\n",
       "      <td>Butantã</td>\n",
       "      <td>São Paulo</td>\n",
       "      <td>Rodovia Raposo Tavares</td>\n",
       "      <td>...</td>\n",
       "      <td>NaN</td>\n",
       "      <td>0.0</td>\n",
       "      <td>STANDARD</td>\n",
       "      <td>9975992a34</td>\n",
       "      <td>2.0</td>\n",
       "      <td>Apartamento a venda no Butantã!!Cond Mairare!!!!</td>\n",
       "      <td>200.0</td>\n",
       "      <td>APARTMENT</td>\n",
       "      <td>2018-10-15T18:57:51.020Z</td>\n",
       "      <td>106.0</td>\n",
       "    </tr>\n",
       "    <tr>\n",
       "      <th>527</th>\n",
       "      <td>São Paulo</td>\n",
       "      <td></td>\n",
       "      <td></td>\n",
       "      <td>-23.578414</td>\n",
       "      <td>-46.730165</td>\n",
       "      <td>ROOFTOP</td>\n",
       "      <td>BR&gt;Sao Paulo&gt;NULL&gt;Sao Paulo&gt;Zona Oeste&gt;Butanta</td>\n",
       "      <td>Butantã</td>\n",
       "      <td>São Paulo</td>\n",
       "      <td>Rua José Álvares Maciel</td>\n",
       "      <td>...</td>\n",
       "      <td>NaN</td>\n",
       "      <td>30.0</td>\n",
       "      <td>STANDARD</td>\n",
       "      <td>0e4d98bf63</td>\n",
       "      <td>0.0</td>\n",
       "      <td>Apartamento 3 dormitórios residencial à venda,...</td>\n",
       "      <td>NaN</td>\n",
       "      <td>APARTMENT</td>\n",
       "      <td>2019-02-24T23:14:34.271Z</td>\n",
       "      <td>73.0</td>\n",
       "    </tr>\n",
       "    <tr>\n",
       "      <th>1276</th>\n",
       "      <td>São Paulo</td>\n",
       "      <td></td>\n",
       "      <td></td>\n",
       "      <td>-23.545715</td>\n",
       "      <td>-46.749176</td>\n",
       "      <td>GEOMETRIC_CENTER</td>\n",
       "      <td>BR&gt;Sao Paulo&gt;NULL&gt;Sao Paulo&gt;Zona Oeste&gt;Butanta</td>\n",
       "      <td>Butantã</td>\n",
       "      <td>São Paulo</td>\n",
       "      <td>Rua Parnamirim</td>\n",
       "      <td>...</td>\n",
       "      <td>NaN</td>\n",
       "      <td>0.0</td>\n",
       "      <td>STANDARD</td>\n",
       "      <td>c0de129662</td>\n",
       "      <td>1.0</td>\n",
       "      <td>Lindo apartamento com 03 dormitórios , na regi...</td>\n",
       "      <td>82.0</td>\n",
       "      <td>APARTMENT</td>\n",
       "      <td>2018-11-08T15:54:18.029Z</td>\n",
       "      <td>82.0</td>\n",
       "    </tr>\n",
       "  </tbody>\n",
       "</table>\n",
       "<p>5 rows × 37 columns</p>\n",
       "</div>"
      ],
      "text/plain": [
       "     address.city address.country address.district  \\\n",
       "40      São Paulo                                    \n",
       "176     São Paulo                                    \n",
       "515     São Paulo                                    \n",
       "527     São Paulo                                    \n",
       "1276    São Paulo                                    \n",
       "\n",
       "      address.geoLocation.location.lat  address.geoLocation.location.lon  \\\n",
       "40                          -23.587339                        -46.754017   \n",
       "176                         -23.563487                        -46.721009   \n",
       "515                         -23.585236                        -46.777273   \n",
       "527                         -23.578414                        -46.730165   \n",
       "1276                        -23.545715                        -46.749176   \n",
       "\n",
       "     address.geoLocation.precision  \\\n",
       "40                         ROOFTOP   \n",
       "176                    APPROXIMATE   \n",
       "515                        ROOFTOP   \n",
       "527                        ROOFTOP   \n",
       "1276              GEOMETRIC_CENTER   \n",
       "\n",
       "                                  address.locationId address.neighborhood  \\\n",
       "40    BR>Sao Paulo>NULL>Sao Paulo>Zona Oeste>Butanta              Butantã   \n",
       "176   BR>Sao Paulo>NULL>Sao Paulo>Zona Oeste>Butanta              Butantã   \n",
       "515   BR>Sao Paulo>NULL>Sao Paulo>Zona Oeste>Butanta              Butantã   \n",
       "527   BR>Sao Paulo>NULL>Sao Paulo>Zona Oeste>Butanta              Butantã   \n",
       "1276  BR>Sao Paulo>NULL>Sao Paulo>Zona Oeste>Butanta              Butantã   \n",
       "\n",
       "     address.state           address.street     ...      \\\n",
       "40       São Paulo    Rua Luísa Crapsi Orsi     ...       \n",
       "176      São Paulo                              ...       \n",
       "515      São Paulo   Rodovia Raposo Tavares     ...       \n",
       "527      São Paulo  Rua José Álvares Maciel     ...       \n",
       "1276     São Paulo           Rua Parnamirim     ...       \n",
       "\n",
       "     pricingInfos.rentalTotalPrice pricingInfos.yearlyIptu publicationType  \\\n",
       "40                             NaN                     0.0        STANDARD   \n",
       "176                            NaN                     0.0        STANDARD   \n",
       "515                            NaN                     0.0        STANDARD   \n",
       "527                            NaN                    30.0        STANDARD   \n",
       "1276                           NaN                     0.0        STANDARD   \n",
       "\n",
       "     publisherId  suites                                              title  \\\n",
       "40    581abc24ae     1.0  Apartamento  residencial à venda, Butantã, São...   \n",
       "176   e4faf6b597     0.0                                 Lindo ! Mairare!!!   \n",
       "515   9975992a34     2.0   Apartamento a venda no Butantã!!Cond Mairare!!!!   \n",
       "527   0e4d98bf63     0.0  Apartamento 3 dormitórios residencial à venda,...   \n",
       "1276  c0de129662     1.0  Lindo apartamento com 03 dormitórios , na regi...   \n",
       "\n",
       "     totalAreas  unitTypes                 updatedAt usableAreas  \n",
       "40         65.0  APARTMENT  2019-02-25T06:20:12.700Z        65.0  \n",
       "176         NaN  APARTMENT  2019-02-14T02:03:51.662Z       136.0  \n",
       "515       200.0  APARTMENT  2018-10-15T18:57:51.020Z       106.0  \n",
       "527         NaN  APARTMENT  2019-02-24T23:14:34.271Z        73.0  \n",
       "1276       82.0  APARTMENT  2018-11-08T15:54:18.029Z        82.0  \n",
       "\n",
       "[5 rows x 37 columns]"
      ]
     },
     "execution_count": 6,
     "metadata": {},
     "output_type": "execute_result"
    }
   ],
   "source": [
    "dados_filtrados = df.loc[(df['address.neighborhood']=='Butantã')]\n",
    "dados_filtrados.head()"
   ]
  },
  {
   "cell_type": "markdown",
   "metadata": {},
   "source": [
    "Agora nosso interesse esta visualizar geograficamente esses imóveis em um mapa. Podemos fazer isso da seguinte forma:"
   ]
  },
  {
   "cell_type": "code",
   "execution_count": 7,
   "metadata": {},
   "outputs": [
    {
     "data": {
      "text/html": [
       "<div style=\"width:100%;\"><div style=\"position:relative;width:100%;height:0;padding-bottom:60%;\"><iframe src=\"about:blank\" style=\"position:absolute;width:100%;height:100%;left:0;top:0;border:none !important;\" data-html=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 onload=\"this.contentDocument.open();this.contentDocument.write(atob(this.getAttribute('data-html')));this.contentDocument.close();\" allowfullscreen webkitallowfullscreen mozallowfullscreen></iframe></div></div>"
      ],
      "text/plain": [
       "<folium.folium.Map at 0x24651ade160>"
      ]
     },
     "execution_count": 7,
     "metadata": {},
     "output_type": "execute_result"
    }
   ],
   "source": [
    "from folium.plugins import MarkerCluster\n",
    "mapa = folium.Map(location=[-16.1237611, -59.9219642],zoom_start=4)\n",
    "\n",
    "MarkerCluster = MarkerCluster().add_to(mapa)\n",
    "\n",
    "for i in range(len(dados_filtrados)):\n",
    "    folium.Marker(\n",
    "        location=[dados_filtrados.iloc[i,3], dados_filtrados.iloc[i,4]],\n",
    "    ).add_to(MarkerCluster)\n",
    "\n",
    "mapa"
   ]
  },
  {
   "cell_type": "markdown",
   "metadata": {},
   "source": [
    "A função \"folium.Map()\" criará um objeto fazendo referência onde estará localizado o mapa. Já a \"MarkerCluster()\" adicionará Clusters ao mapa, ou seja, os pontos geográficos de interesse. A função \"folium.Marker()\" contém diversas informações, é nela que definimos as latitudes e longitudes, etc. Abaixo vamos explorar um pouco mais essa função."
   ]
  },
  {
   "cell_type": "markdown",
   "metadata": {},
   "source": [
    "### Adicionando a quantidade de quartos do imóvel"
   ]
  },
  {
   "cell_type": "code",
   "execution_count": 8,
   "metadata": {},
   "outputs": [
    {
     "data": {
      "text/html": [
       "<div style=\"width:100%;\"><div style=\"position:relative;width:100%;height:0;padding-bottom:60%;\"><iframe src=\"about:blank\" style=\"position:absolute;width:100%;height:100%;left:0;top:0;border:none !important;\" data-html=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 onload=\"this.contentDocument.open();this.contentDocument.write(atob(this.getAttribute('data-html')));this.contentDocument.close();\" allowfullscreen webkitallowfullscreen mozallowfullscreen></iframe></div></div>"
      ],
      "text/plain": [
       "<folium.folium.Map at 0x24651c33518>"
      ]
     },
     "execution_count": 8,
     "metadata": {},
     "output_type": "execute_result"
    }
   ],
   "source": [
    "from folium.plugins import MarkerCluster\n",
    "\n",
    "mapa = folium.Map(location=[-23.533773, -46.625290],zoom_start=11)\n",
    "\n",
    "MarkerCluster = MarkerCluster().add_to(mapa)\n",
    "\n",
    "\n",
    "for i in range(len(dados_filtrados)):\n",
    "    folium.Marker(\n",
    "        location=[dados_filtrados.iloc[i,3], dados_filtrados.iloc[i,4]],\n",
    "        \n",
    "        popup = ('Quantidade de quartos: ' + str(dados_filtrados.iloc[i,14]).capitalize(),  \n",
    "                          \n",
    "                ),\n",
    "    ).add_to(MarkerCluster)\n",
    "    \n",
    "mapa"
   ]
  },
  {
   "cell_type": "markdown",
   "metadata": {},
   "source": [
    "Quando clicar nos clusters é possível identificar a quantidade de quartos que há no imóvel. "
   ]
  },
  {
   "cell_type": "markdown",
   "metadata": {},
   "source": [
    "## Mapa de Calor"
   ]
  },
  {
   "cell_type": "markdown",
   "metadata": {},
   "source": [
    "Agora suponha estamos interessados em saber a concentração geográfica dos imóveis, a venda ou para locação, na região do Butantã, Brooklin Paulista e Consolação, vamos explorar esses dados com base nos mapas de calor.  "
   ]
  },
  {
   "cell_type": "code",
   "execution_count": 9,
   "metadata": {},
   "outputs": [],
   "source": [
    "dados_heatmap = df.loc[(df['address.neighborhood']=='Butantã') | (df['address.neighborhood']=='Brooklin Paulista') | (df['address.neighborhood']=='Consolação')]"
   ]
  },
  {
   "cell_type": "code",
   "execution_count": 10,
   "metadata": {},
   "outputs": [
    {
     "data": {
      "text/html": [
       "<div style=\"width:100%;\"><div style=\"position:relative;width:100%;height:0;padding-bottom:60%;\"><iframe src=\"about:blank\" style=\"position:absolute;width:100%;height:100%;left:0;top:0;border:none !important;\" data-html=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 onload=\"this.contentDocument.open();this.contentDocument.write(atob(this.getAttribute('data-html')));this.contentDocument.close();\" allowfullscreen webkitallowfullscreen mozallowfullscreen></iframe></div></div>"
      ],
      "text/plain": [
       "<folium.folium.Map at 0x24651c332e8>"
      ]
     },
     "execution_count": 10,
     "metadata": {},
     "output_type": "execute_result"
    }
   ],
   "source": [
    "from folium.plugins import HeatMap\n",
    "\n",
    "lat = dados_heatmap.iloc[:,3].tolist()\n",
    "lng = dados_heatmap.iloc[:,4].tolist()\n",
    "m = folium.Map(\n",
    "    location=[-23.533773, -46.625290],\n",
    "    tiles='cartodbdark_matter',\n",
    "    zoom_start=10\n",
    ")\n",
    "HeatMap(list(zip(lat, lng))).add_to(m)\n",
    "m"
   ]
  },
  {
   "cell_type": "markdown",
   "metadata": {},
   "source": [
    "Para montar o mapa utilizamos a função \"HeatMap()\" e passamos como parâmetro uma lista de tuplas criadas com o zip(). <br>\n",
    "Vimos que é possível identificar a concentração dos imóveis em determinadas regiões dos bairros escolhidos. Podemos vilualizar o mesmos dados mudando o layout do mapa apenas mudando a variavel \"tiles\" da seguinte forma:"
   ]
  },
  {
   "cell_type": "code",
   "execution_count": 11,
   "metadata": {},
   "outputs": [
    {
     "data": {
      "text/html": [
       "<div style=\"width:100%;\"><div style=\"position:relative;width:100%;height:0;padding-bottom:60%;\"><iframe src=\"about:blank\" style=\"position:absolute;width:100%;height:100%;left:0;top:0;border:none !important;\" data-html=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 onload=\"this.contentDocument.open();this.contentDocument.write(atob(this.getAttribute('data-html')));this.contentDocument.close();\" allowfullscreen webkitallowfullscreen mozallowfullscreen></iframe></div></div>"
      ],
      "text/plain": [
       "<folium.folium.Map at 0x24651ced7f0>"
      ]
     },
     "execution_count": 11,
     "metadata": {},
     "output_type": "execute_result"
    }
   ],
   "source": [
    "from folium.plugins import HeatMap\n",
    "\n",
    "lat = dados_heatmap.iloc[:,3].tolist()\n",
    "lng = dados_heatmap.iloc[:,4].tolist()\n",
    "mapa_heat = folium.Map(\n",
    "    location=[-23.533773, -46.625290],\n",
    "    tiles='stamentoner',\n",
    "    zoom_start=10\n",
    ")\n",
    "HeatMap(list(zip(lat, lng))).add_to(mapa_heat)\n",
    "mapa_heat"
   ]
  },
  {
   "cell_type": "code",
   "execution_count": 239,
   "metadata": {},
   "outputs": [],
   "source": [
    "mapa_heat.save('mapa_heat_imoveis_sampa.html') # Salvando o mapa"
   ]
  },
  {
   "cell_type": "markdown",
   "metadata": {},
   "source": [
    "A Leaflet e também o Folium, usam o OpenStreetMap para montar seus mapas. Os mapas da OpenStreetMap são desenvolvidos por uma comunidade voluntária de mapeadores que contribuem e mantêm atualizados os dados sobre estradas, trilhos, cafés, estações ferroviárias etc. <br>\n",
    "\n",
    "Conseguimos ver que as ferramentas que utilizamos são muito poderosas e podemos fazer diversas coisas com elas, a ideia desse artigo foi aprensentar algumas técnicas aplicadas ao mercado imobiliário. <br>\n",
    "\n",
    "No próximo post vamos discutir sobre tendências do mercado imobiliário. "
   ]
  },
  {
   "cell_type": "markdown",
   "metadata": {},
   "source": [
    "#### Referências"
   ]
  },
  {
   "cell_type": "markdown",
   "metadata": {},
   "source": [
    "https://python-visualization.github.io/folium/ <br>\n",
    "https://www.openstreetmap.org/about <br>\n",
    "https://programminghistorian.org/en/lessons/mapping-with-python-leaflet"
   ]
  }
 ],
 "metadata": {
  "kernelspec": {
   "display_name": "Python 3",
   "language": "python",
   "name": "python3"
  },
  "language_info": {
   "codemirror_mode": {
    "name": "ipython",
    "version": 3
   },
   "file_extension": ".py",
   "mimetype": "text/x-python",
   "name": "python",
   "nbconvert_exporter": "python",
   "pygments_lexer": "ipython3",
   "version": "3.6.7"
  }
 },
 "nbformat": 4,
 "nbformat_minor": 2
}
